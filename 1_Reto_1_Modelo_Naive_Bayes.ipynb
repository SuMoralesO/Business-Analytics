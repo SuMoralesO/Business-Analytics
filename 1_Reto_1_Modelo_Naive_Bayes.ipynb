{
  "nbformat": 4,
  "nbformat_minor": 0,
  "metadata": {
    "colab": {
      "provenance": [],
      "mount_file_id": "1VG0FCu6KbW7-u4puPQ61-EkoE-9sBLYb",
      "authorship_tag": "ABX9TyPsBQUC3ULLM/69uRxkupGn",
      "include_colab_link": true
    },
    "kernelspec": {
      "name": "python3",
      "display_name": "Python 3"
    },
    "language_info": {
      "name": "python"
    }
  },
  "cells": [
    {
      "cell_type": "markdown",
      "metadata": {
        "id": "view-in-github",
        "colab_type": "text"
      },
      "source": [
        "<a href=\"https://colab.research.google.com/github/SuMoralesO/Business-Analytics/blob/main/1_Reto_1_Modelo_Naive_Bayes.ipynb\" target=\"_parent\"><img src=\"https://colab.research.google.com/assets/colab-badge.svg\" alt=\"Open In Colab\"/></a>"
      ]
    },
    {
      "cell_type": "markdown",
      "source": [
        "## 0. Se procede con la carga de las librerías.\n"
      ],
      "metadata": {
        "id": "yFDoSYHNmyNC"
      }
    },
    {
      "cell_type": "code",
      "execution_count": null,
      "metadata": {
        "id": "K9fkrkT6fWlP"
      },
      "outputs": [],
      "source": [
        "import numpy as np\n",
        "import pandas as pd\n",
        "from sklearn.naive_bayes import GaussianNB\n",
        "from sklearn.metrics import confusion_matrix"
      ]
    },
    {
      "cell_type": "markdown",
      "source": [
        "#1. Se procede con la carga de los datos."
      ],
      "metadata": {
        "id": "Y_tj81R_sXg1"
      }
    },
    {
      "cell_type": "code",
      "source": [
        "Data = \"/content/drive/MyDrive/Analítica de Negocios/1. BD2_CarCrash.xlsx\"\n",
        "Datos = pd.read_excel(Data,sheet_name = 0)\n",
        "Datos.dropna()\n",
        "Datos.head()\n",
        "\n",
        "# Creamos el DataMart.\n",
        "\n",
        "Info = Datos[[\"Weekday\", \"ViolCat\", \"ClearWeather\",\"Month\", \"Daylight\"]]\n",
        "yd = Datos[[\"Highway\"]]"
      ],
      "metadata": {
        "id": "Lm8U911KhAjt"
      },
      "execution_count": null,
      "outputs": []
    },
    {
      "cell_type": "markdown",
      "source": [
        "# 2. Se procede con la configuración y evaluación del modelo Naive Bayes (Highway)."
      ],
      "metadata": {
        "id": "ZlXyNZEzwyzh"
      }
    },
    {
      "cell_type": "code",
      "source": [
        "mnb = GaussianNB()\n",
        "mnb.fit(Info,yd)\n",
        "\n",
        "# Analizamos los resultados arrojados por el modelo.\n",
        "u = mnb.theta_  # Son las medias.\n",
        "print(\"Las medias de las variables son: \\n\", u)\n",
        "sigma = np.sqrt(mnb.var_)\n",
        "print(\"Los valores de las desviaciones son: \\n\", sigma)\n",
        "\n",
        "# Se procede con el análisis de las variaciones de las variables.\n",
        "LS = u + sigma\n",
        "print(\"Los límites superiores para las variables son: \\n\", LS)\n",
        "LI = u - sigma\n",
        "print(\"Los límites inferiores para las variables son: \\n\", LI)\n",
        "\n",
        "# Prediciento los valores de preaprobación del valor deseado.\n",
        "ydp = mnb.predict(Info)\n",
        "\n",
        "# Se procede con la evaluación del comportamiento del modelo.\n",
        "cm = confusion_matrix(yd,ydp)\n",
        "print(\"La matriz de confusión es: \\n\", cm)\n",
        "\n",
        "VN = cm[0,0]; FP = cm[0,1]; FN = cm[1,0]; VP = cm[1,1]\n",
        "\n",
        "Ex = (VP + VN)/len(Info)\n",
        "print(\"La Exactitud del Modelo es: \", Ex)\n",
        "\n",
        "Ter = (FP + FN)/len(Info)\n",
        "print(\"La Tasa de Error del Modelo es: \", Ter)\n",
        "\n",
        "Sen = VP/(VP + FN)\n",
        "print(\"La Sensibilidad del Modelo es: \", Sen)\n",
        "\n",
        "Esp = VN/(VN + FP)\n",
        "print(\"La Especificidad del Modelo es: \", Esp)\n",
        "\n",
        "Pres = VP/(VP + FP)\n",
        "print(\"La Precisión del Modelo es: \", Pres)\n",
        "\n",
        "VPN = VN/(VN + FN)\n",
        "print(\"El valor de Predicción Negativo del Modelo es: \", VPN)\n",
        "\n",
        "# Para evaluar un accidente.\n",
        "XSC = [[7,1,1,3,0]]\n",
        "ydsc = mnb.predict(XSC)\n",
        "print(\"El accidente es: \", ydsc)"
      ],
      "metadata": {
        "colab": {
          "base_uri": "https://localhost:8080/"
        },
        "id": "dKpuCAJbRBhl",
        "outputId": "a28504ea-67d6-4688-d62e-eea24b572131"
      },
      "execution_count": null,
      "outputs": [
        {
          "output_type": "stream",
          "name": "stdout",
          "text": [
            "Las medias de las variables son: \n",
            " [[3.88945752 6.7778915  0.85261003 5.52548618 0.6814739 ]\n",
            " [3.82417582 4.31538462 0.79450549 5.47417582 0.70934066]]\n",
            "Los valores de las desviaciones son: \n",
            " [[1.92831125 3.63475806 0.35449426 3.27379337 0.46590475]\n",
            " [1.82800803 2.36793707 0.40406253 3.26215279 0.45406663]]\n",
            "Los límites superiores para las variables son: \n",
            " [[ 5.81776877 10.41264957  1.20710429  8.79927955  1.14737865]\n",
            " [ 5.65218385  6.68332168  1.19856802  8.73632861  1.16340729]]\n",
            "Los límites inferiores para las variables son: \n",
            " [[1.96114628 3.14313344 0.49811577 2.25169281 0.21556915]\n",
            " [1.9961678  1.94744755 0.39044297 2.21202304 0.25527403]]\n",
            "La matriz de confusión es: \n",
            " [[4560  325]\n",
            " [1563  257]]\n",
            "La Exactitud del Modelo es:  0.7184190902311708\n",
            "La Tasa de Error del Modelo es:  0.2815809097688292\n",
            "La Sensibilidad del Modelo es:  0.1412087912087912\n",
            "La Especificidad del Modelo es:  0.9334698055271239\n",
            "La Precisión del Modelo es:  0.4415807560137457\n",
            "El valor de Predicción Negativo del Modelo es:  0.7447329740323371\n",
            "El accidente es:  [0]\n"
          ]
        },
        {
          "output_type": "stream",
          "name": "stderr",
          "text": [
            "/usr/local/lib/python3.10/dist-packages/sklearn/utils/validation.py:1183: DataConversionWarning: A column-vector y was passed when a 1d array was expected. Please change the shape of y to (n_samples, ), for example using ravel().\n",
            "  y = column_or_1d(y, warn=True)\n",
            "/usr/local/lib/python3.10/dist-packages/sklearn/base.py:465: UserWarning: X does not have valid feature names, but GaussianNB was fitted with feature names\n",
            "  warnings.warn(\n"
          ]
        }
      ]
    },
    {
      "cell_type": "markdown",
      "source": [
        "# 3. Se procede con la estimación."
      ],
      "metadata": {
        "id": "0x_BFR8189to"
      }
    },
    {
      "cell_type": "code",
      "source": [
        "Datosn = pd.read_excel(Data,sheet_name = 1)\n",
        "\n",
        "# Creamos el DataMart.\n",
        "Infon = Datosn[[\"Weekday\", \"ViolCat\", \"ClearWeather\",\"Month\", \"Daylight\"]]\n",
        "ydn = Datosn[[\"Highway\"]]\n",
        "\n",
        "# Hacer el pronóstico para todos los datos disponibles.\n",
        "ydpn = mnb.predict(Infon)\n",
        "\n",
        "# Se procede con la creación del informe.\n",
        "InfoSalida = np.column_stack((Infon, ydpn, ydn))\n",
        "df_sal = pd.DataFrame(InfoSalida)\n",
        "df_sal.to_excel(\"Informe.xlsx\")"
      ],
      "metadata": {
        "id": "ypY_VaqdjZpy"
      },
      "execution_count": null,
      "outputs": []
    },
    {
      "cell_type": "markdown",
      "source": [
        "#**Análisis de los datos**\n",
        "\n",
        "\n",
        "La base de datos presenta un total de 6705 datos, de los cuales el 27.14% (1820) son accidentes que ocurrieron en una autopista y el 72.86% (4885) no ocurrieron en una autopista.\n",
        "\n",
        "El modelo propuesto para el pronóstico de accidentes en una autopista tiene 5 variables que son: El día de la semana, el nivel de impacto, si hay un cielo despejado, el mes y la cantidad de luz diurna. Este modelo nos da como resultado una exactitud del 71.84%, indicando que el modelo tiende a equivocarse en un 28.16% que es su tasa de error. Con las métricas de sensibilidad, que arrojó un resultado del 14.12%, y especificidad, que arrojó un resultado del 93.35%, nos damos cuenta de que el modelo funciona mucho mejor al momento de identificar accidentes ocurridos en lugares distintos a la autopista. Además, la métrica de valor de predicción negativo indica que entre todos los resultados que arrojó como negativos, estuvo correcto en un 74.47% mientras que con la métrica de precisión sabemos que del total de resultados que arrojó como positivos estuvo correcto en un 44.16%.\n",
        "\n",
        "Al momento de clasificar un accidente ocurrido durante un domingo del mes de marzo con un cielo despejado, sin luz diurna y con un nivel de impacto de 1, nos da como resultado que no ocurrió en la autopista.\n",
        "\n",
        "A pesar de que la base de datos no presenta accidentes nuevos que aún no hayan sido clasificados según si ocurrieron en autopista o no, se realiza la estimación como método para comparar cuales datos clasificó correctamente.\n"
      ],
      "metadata": {
        "id": "iZQHtPl6s02e"
      }
    }
  ]
}