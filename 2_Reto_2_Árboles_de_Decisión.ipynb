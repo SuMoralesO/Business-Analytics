{
  "nbformat": 4,
  "nbformat_minor": 0,
  "metadata": {
    "colab": {
      "provenance": [],
      "mount_file_id": "1QxtTGBnjrmLL89wXEzWUAih00kf00CXg",
      "authorship_tag": "ABX9TyNLvHPFgiCBkJnopygcDgdS"
    },
    "kernelspec": {
      "name": "python3",
      "display_name": "Python 3"
    },
    "language_info": {
      "name": "python"
    }
  },
  "cells": [
    {
      "cell_type": "markdown",
      "source": [
        "# 0. Se cargan las librerías de trabajo."
      ],
      "metadata": {
        "id": "5hyzMPPH5W5D"
      }
    },
    {
      "cell_type": "code",
      "source": [
        "import pandas as pd\n",
        "import numpy as np\n",
        "import matplotlib.pyplot as plt\n",
        "\n",
        "from sklearn.tree import DecisionTreeClassifier\n",
        "\n",
        "from google.colab import drive\n",
        "drive.mount(\"/content/drive\")"
      ],
      "metadata": {
        "colab": {
          "base_uri": "https://localhost:8080/"
        },
        "id": "IU3ITOj05YkE",
        "outputId": "70f30c93-fa57-43e5-d5ce-695f72351e7e"
      },
      "execution_count": null,
      "outputs": [
        {
          "output_type": "stream",
          "name": "stdout",
          "text": [
            "Drive already mounted at /content/drive; to attempt to forcibly remount, call drive.mount(\"/content/drive\", force_remount=True).\n"
          ]
        }
      ]
    },
    {
      "cell_type": "markdown",
      "source": [
        "# 1. Se cargan los datos desde el drive."
      ],
      "metadata": {
        "id": "aLG6lnZ36Mkv"
      }
    },
    {
      "cell_type": "code",
      "source": [
        "ruta = \"/content/drive/MyDrive/Analítica de Negocios/2. BD2_In_App_Pur_Int.xlsx\"\n",
        "data = pd.read_excel(ruta, sheet_name = 0)\n",
        "data = data.dropna()\n",
        "data.head()\n",
        "\n",
        "# Seleccionamos las variables de interés.\n",
        "datos = data[[\"Age\", \"Income\", \"Years\", \"Hours\"]]\n",
        "datos.head()\n",
        "datos = np.array(datos)\n",
        "yd = data[[\"Buy\"]]; yd = np.array(yd)"
      ],
      "metadata": {
        "id": "aUEN8hVR6Vev"
      },
      "execution_count": null,
      "outputs": []
    },
    {
      "cell_type": "markdown",
      "source": [
        "# 2. Se procede con la construcción del modelo del Árbol."
      ],
      "metadata": {
        "id": "3YYlGP4C-K9i"
      }
    },
    {
      "cell_type": "code",
      "source": [
        "mar = DecisionTreeClassifier(criterion = \"gini\", max_depth = 4)\n",
        "mar.fit(datos,yd)\n",
        "ydp = mar.predict(datos)\n",
        "\n",
        "# Evaluamos el modelo\n",
        "from sklearn.metrics import confusion_matrix\n",
        "cm = confusion_matrix(yd,ydp)\n",
        "VN = cm[0,0]; FP = cm[0,1]; FN = cm[1,0]; VP = cm[1,1]\n",
        "\n",
        "Ex = (VP + VN)/(VP + VN + FP + FN)\n",
        "Sen = VP/(VP + FN); Esp = VN/(VN + FP)\n",
        "\n",
        "print(cm)\n",
        "print(\"Exactitud: \", Ex)\n",
        "print(\"Sensibilidad: \", Sen)\n",
        "print(\"Especificidad: \", Esp)"
      ],
      "metadata": {
        "colab": {
          "base_uri": "https://localhost:8080/"
        },
        "id": "6u3RiY14-O16",
        "outputId": "f8a50e58-7575-4bad-8ab8-09d0db2dfcac"
      },
      "execution_count": null,
      "outputs": [
        {
          "output_type": "stream",
          "name": "stdout",
          "text": [
            "[[139  50]\n",
            " [ 11 200]]\n",
            "Exactitud:  0.8475\n",
            "Sensibilidad:  0.9478672985781991\n",
            "Especificidad:  0.7354497354497355\n"
          ]
        }
      ]
    },
    {
      "cell_type": "markdown",
      "source": [
        "# 3. Se procede con la visualización del árbol."
      ],
      "metadata": {
        "id": "CtyiYUmP-bP0"
      }
    },
    {
      "cell_type": "code",
      "source": [
        "from sklearn.tree import export_graphviz\n",
        "from pydotplus import graph_from_dot_data\n",
        "\n",
        "Va = [\"Age\", \"Income\", \"Years\", \"Hours\"]\n",
        "\n",
        "dot_data = export_graphviz(mar, feature_names = Va)\n",
        "graph = graph_from_dot_data(dot_data)\n",
        "graph.write_png(\"Árbol - Reto.png\")"
      ],
      "metadata": {
        "id": "G2xxDcY1-S6Z",
        "colab": {
          "base_uri": "https://localhost:8080/"
        },
        "outputId": "adbe1065-f3cf-4c89-97a7-c2c18871fccb"
      },
      "execution_count": null,
      "outputs": [
        {
          "output_type": "execute_result",
          "data": {
            "text/plain": [
              "True"
            ]
          },
          "metadata": {},
          "execution_count": 9
        }
      ]
    },
    {
      "cell_type": "markdown",
      "source": [
        "# 4. Le calculamos los valores de preaprobación a los solicitantes nuevos."
      ],
      "metadata": {
        "id": "xFShLRsw-gUb"
      }
    },
    {
      "cell_type": "code",
      "source": [
        "data2 = pd.read_excel(ruta, sheet_name = 1)\n",
        "data2 = data2[[\"Age\", \"Income\", \"Years\", \"Hours\"]]\n",
        "data2 = data2.dropna()\n",
        "\n",
        "datos2 = np.array(data2)\n",
        "ydp2 = mar.predict(datos2)\n",
        "data2[\"Buy\"] = ydp2\n",
        "data2.head()\n",
        "\n",
        "data2.to_excel(\"NuevosCompradores.xlsx\")"
      ],
      "metadata": {
        "id": "q2VZ7BO8-joZ"
      },
      "execution_count": null,
      "outputs": []
    },
    {
      "cell_type": "markdown",
      "source": [
        "# Análisis de resultados.\n",
        "\n",
        "En la base de datos se puede observar un total de 400 jugadores, de los cuales 211 jugadores realizarían compras en la aplicación (52.75%) y 189 jugadores no (47.25%). En base a la información anterior, se realiza un modelo de árbol de decisión con las variables edad (expresada en años), ingresos (que es la ganancia de cada jugador), años que ha jugado y las horas que le dedica al juego. Este modelo presenta un índice de exactitud del 84.75%, lo que indica que ese es el porcentaje de datos clasificados correctamente y que se puede considerar un modelo aceptable para el pronóstico de los datos. Además, este modelo presenta una sensibilidad del 94.79% y una especificidad del 73.54%, indicando el comportamiento del modelo al clasificar a los jugadores que comprarían y los que no, respectivamente; y demostrando que predomina la clasificación de jugadores que comprarían.\n",
        "\n",
        "En el árbol podemos observar 3 nodos puros (gini = 0): El primero cumple con la regla de tener un ingreso menor a 63.5, esto lleva a que de los 90 jugadores que hay en este nodo, el 100% no compraría en el juego. El segundo nodo cumple con las reglas de tener un ingreso mayor a 63.5, tener menos de 1.5 años jugando y una edad mayor a 23, donde el 100% de los jugadores en este nodo (28) no comprarían en el juego. Y el último nodo cumple con la regla de un ingreso mayor a 63.5, tener menos de 1.5 años jugando, una edad menor a 23 y llevar más de 0.5 años jugando, mostrando que 5 de los jugadores de este nodo no comprarían en el juego, es decir el 100%.\n",
        "\n",
        "De los dos nuevos jugadores, el primero cumple con las reglas de tener un ingreso mayor a 63.5, tener más de 1.5 años jugando, tener menos de 5.5 años jugando y un ingreso mayor a 76.5, por lo cual tiene un 66.96% de que sí realizaría una compra en el juego. Mientras que el segundo jugador cumple con las reglas de tener un ingreso mayor a 63.5, tener menos de 1.5 años jugando y una edad mayor a 23, entrando en el segundo nodo puro anteriormente mencionado, por lo cual tiene un 100% de probabilidad de no realizar una compra en el juego.\n",
        "\n",
        "Una persona que cumpla las siguientes reglas Income>63.5 AND Years>1.5 AND Years>5.5 AND Income<=137.5 tendría una probabilidad del 91.67% de probabilidad de realizar una compra en el juego."
      ],
      "metadata": {
        "id": "mmlA2y4o-nMb"
      }
    }
  ]
}